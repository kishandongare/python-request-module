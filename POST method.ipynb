{
 "cells": [
  {
   "cell_type": "markdown",
   "id": "ede2363e",
   "metadata": {},
   "source": [
    "# POST method "
   ]
  },
  {
   "cell_type": "markdown",
   "id": "49c14f14",
   "metadata": {},
   "source": [
    "POST Http Method\n",
    "\n",
    "POST is a request method supported by HTTP used by the World Wide Web. By design, the POST request method requests that a web server accepts the data enclosed in the body of the request message, most likely for storing it. It is often used when uploading a file or when submitting a completed web form. "
   ]
  },
  {
   "cell_type": "markdown",
   "id": "004822e6",
   "metadata": {},
   "source": [
    "Syntax – \n",
    "\n",
    "requests.post(url, params={key: value}, args)"
   ]
  },
  {
   "cell_type": "code",
   "execution_count": 3,
   "id": "90206d33",
   "metadata": {
    "scrolled": true
   },
   "outputs": [
    {
     "name": "stdout",
     "output_type": "stream",
     "text": [
      "<Response [200]>\n",
      "{'args': {}, 'data': '', 'files': {}, 'form': {'password': 'Hello', 'username': 'Jack'}, 'headers': {'Accept': '*/*', 'Accept-Encoding': 'gzip, deflate', 'Content-Length': '28', 'Content-Type': 'application/x-www-form-urlencoded', 'Host': 'httpbin.org', 'User-Agent': 'python-requests/2.25.1', 'X-Amzn-Trace-Id': 'Root=1-61a7b6de-07bfcb585fa6a34e00ecb8af'}, 'json': None, 'origin': '117.228.160.153', 'url': 'https://httpbin.org/post'}\n"
     ]
    }
   ],
   "source": [
    "import requests\n",
    "\n",
    "# Making a POST request\n",
    "\n",
    "request = requests.post('https://httpbin.org/post',data ={'username':'Jack','password':'Hello'})\n",
    "\n",
    "# check status code for response received\n",
    "# success code - 200\n",
    "\n",
    "print(request)\n",
    "\n",
    "# print content of request\n",
    "print(request.json())\n"
   ]
  },
  {
   "cell_type": "markdown",
   "id": "58ef27fa",
   "metadata": {},
   "source": [
    "# Advantages of using POST Method\n",
    "\n",
    "1.It is more secure than GET because user-entered information is never visible in the URL query string or in the server logs.\n",
    "\n",
    "2.There is a much larger limit on the amount of data that can be passed and one can send text data as well as binary data (uploading a file) using POST. \n",
    "\n",
    "# Disadvantages of using the POST Method\n",
    "\n",
    "1.Since the data sent by the POST method is not visible in the URL, so it is not possible to bookmark the page with specific query.\n",
    "\n",
    "2.POST requests are never cached\n",
    "\n",
    "3.POST requests do not remain in the browser history."
   ]
  },
  {
   "cell_type": "code",
   "execution_count": null,
   "id": "40137fcc",
   "metadata": {},
   "outputs": [],
   "source": []
  }
 ],
 "metadata": {
  "kernelspec": {
   "display_name": "Python 3",
   "language": "python",
   "name": "python3"
  },
  "language_info": {
   "codemirror_mode": {
    "name": "ipython",
    "version": 3
   },
   "file_extension": ".py",
   "mimetype": "text/x-python",
   "name": "python",
   "nbconvert_exporter": "python",
   "pygments_lexer": "ipython3",
   "version": "3.8.8"
  }
 },
 "nbformat": 4,
 "nbformat_minor": 5
}
