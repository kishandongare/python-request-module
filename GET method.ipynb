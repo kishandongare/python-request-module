{
 "cells": [
  {
   "cell_type": "markdown",
   "id": "17ec36d4",
   "metadata": {},
   "source": [
    "# GET method "
   ]
  },
  {
   "cell_type": "markdown",
   "id": "1f0949ae",
   "metadata": {},
   "source": [
    "GET Http Method\n",
    "The GET method is used to retrieve information from the given server using a given URI. The GET method sends the encoded user information appended to the page request. The page and the encoded information are separated by the ‘?’ character."
   ]
  },
  {
   "cell_type": "markdown",
   "id": "fcb42125",
   "metadata": {},
   "source": [
    "https://www.google.com/search?q=hello"
   ]
  },
  {
   "cell_type": "markdown",
   "id": "53b42f2e",
   "metadata": {},
   "source": [
    "Python’s requests module provides in-built method called get() for making a GET request to a specified URI."
   ]
  },
  {
   "cell_type": "markdown",
   "id": "783cab2a",
   "metadata": {},
   "source": [
    "\n",
    "Syntax –\n",
    "\n",
    "requests.get(url, params={key: value}, args)"
   ]
  },
  {
   "cell_type": "code",
   "execution_count": 4,
   "id": "e5e89dbe",
   "metadata": {},
   "outputs": [
    {
     "name": "stdout",
     "output_type": "stream",
     "text": [
      "<Response [200]>\n",
      "{\"login\":\"kishandongare\",\"id\":66677660,\"node_id\":\"MDQ6VXNlcjY2Njc3NjYw\",\"avatar_url\":\"https://avatars.githubusercontent.com/u/66677660?v=4\",\"gravatar_id\":\"\",\"url\":\"https://api.github.com/users/kishandongare\",\"html_url\":\"https://github.com/kishandongare\",\"followers_url\":\"https://api.github.com/users/kishandongare/followers\",\"following_url\":\"https://api.github.com/users/kishandongare/following{/other_user}\",\"gists_url\":\"https://api.github.com/users/kishandongare/gists{/gist_id}\",\"starred_url\":\"https://api.github.com/users/kishandongare/starred{/owner}{/repo}\",\"subscriptions_url\":\"https://api.github.com/users/kishandongare/subscriptions\",\"organizations_url\":\"https://api.github.com/users/kishandongare/orgs\",\"repos_url\":\"https://api.github.com/users/kishandongare/repos\",\"events_url\":\"https://api.github.com/users/kishandongare/events{/privacy}\",\"received_events_url\":\"https://api.github.com/users/kishandongare/received_events\",\"type\":\"User\",\"site_admin\":false,\"name\":\"KISHAN DONGARE\",\"company\":null,\"blog\":\"\",\"location\":null,\"email\":null,\"hireable\":true,\"bio\":\"(B Tech IT)\\r\\nTo pursue graduate studies in Information Technology leading to a career in IT industries.\",\"twitter_username\":null,\"public_repos\":40,\"public_gists\":0,\"followers\":0,\"following\":3,\"created_at\":\"2020-06-09T11:47:00Z\",\"updated_at\":\"2021-11-27T13:26:10Z\"}\n"
     ]
    }
   ],
   "source": [
    "import requests\n",
    "\n",
    "# Making a GET request\n",
    "request = requests.get('https://api.github.com/users/kishandongare')\n",
    "\n",
    "# check status code for response received\n",
    "# success code - 200\n",
    "print(request)\n",
    "\n",
    "# print content of request\n",
    "print(request.json()) #.text or .content or .json()\n"
   ]
  },
  {
   "cell_type": "markdown",
   "id": "447f444b",
   "metadata": {},
   "source": [
    "# Advantages of Using the GET Method\n",
    "\n",
    "1.Since the data sent by the GET method are displayed in the URL, it is possible to bookmark the page with specific query string values.\n",
    "\n",
    "2.GET requests can be cached and GET requests remain in the browser history.\n",
    "\n",
    "3.GET requests can be bookmarked.\n",
    "\n",
    "\n",
    "# Disadvantages of Using the GET Method\n",
    "\n",
    "1.The GET method is not suitable for passing sensitive information such as the username and password, because these are fully visible in the URL query string as well as potentially stored in the client browser’s memory as a visited page.\n",
    "\n",
    "2.Because the GET method assigns data to a server environment variable, the length of the URL is limited. So, there is a limitation for the total data to be sent."
   ]
  },
  {
   "cell_type": "code",
   "execution_count": null,
   "id": "8e9011ff",
   "metadata": {},
   "outputs": [],
   "source": []
  }
 ],
 "metadata": {
  "kernelspec": {
   "display_name": "Python 3",
   "language": "python",
   "name": "python3"
  },
  "language_info": {
   "codemirror_mode": {
    "name": "ipython",
    "version": 3
   },
   "file_extension": ".py",
   "mimetype": "text/x-python",
   "name": "python",
   "nbconvert_exporter": "python",
   "pygments_lexer": "ipython3",
   "version": "3.8.8"
  }
 },
 "nbformat": 4,
 "nbformat_minor": 5
}
